{
 "cells": [
  {
   "cell_type": "code",
   "execution_count": 33,
   "metadata": {},
   "outputs": [],
   "source": [
    "import torch\n",
    "import torch.nn.functional as F\n",
    "import torch.nn as nn\n",
    "from transformers import BertLMHeadModel, AutoConfig"
   ]
  },
  {
   "attachments": {},
   "cell_type": "markdown",
   "metadata": {},
   "source": [
    "##### Self-Attention\n",
    "$Attention \\left(Q, K, V\\right) = softmax \\left( \\frac{QK^T}{\\sqrt{d_k}} \\right) \\cdot V$\n",
    "\n",
    "<!-- ![alternatvie text](attention.png) -->\n",
    "<div>\n",
    "<center>\n",
    "<img src=\"attention.png\" width=\"300\"/>\n",
    "</center>\n",
    "</div>"
   ]
  },
  {
   "cell_type": "code",
   "execution_count": 34,
   "metadata": {},
   "outputs": [],
   "source": [
    "def scaled_dot_product(q, k, v):\n",
    "    # (bs, head, seq, hs // head)\n",
    "    d_k = q.shape[-1]\n",
    "    attn_score = torch.matmul(q, k.transpose(-2, -1)) / torch.sqrt(d_k)\n",
    "    # (bs, head, seq, seq)\n",
    "    attn_probs = F.softmax(attn_score, dim=-1)\n",
    "    attn_probs = F.dropout(attn_probs, 0.1)\n",
    "    # (bs, head, seq, hs // head)\n",
    "    attn = torch.matmul(attn_probs, v)\n",
    "    return attn"
   ]
  },
  {
   "cell_type": "code",
   "execution_count": 35,
   "metadata": {},
   "outputs": [],
   "source": [
    "class SelfAttention(nn.Module):\n",
    "    def __init__(self, hidden_size, n_heads):\n",
    "        super().__init__()\n",
    "        self.q_proj = nn.Linear(hidden_size, hidden_size)\n",
    "        self.k_proj = nn.Linear(hidden_size, hidden_size)\n",
    "        self.v_proj = nn.Linear(hidden_size, hidden_size)\n",
    "        self.n_heads = n_heads\n",
    "\n",
    "    def permute_for_scores(self, x):\n",
    "        # x: (batch_size, seq_len, hidden_size)\n",
    "        new_shape = x.shape[:-1] + (self.n_heads, -1)\n",
    "        x = x.view(new_shape)\n",
    "        # output: (bs, head, seq, hs // head)\n",
    "        return x.permute(0, 2, 1, 3)\n",
    "\n",
    "    def forward(self, hidden_states):\n",
    "        # hidden_states: (batch_size, seq_len, hidden_size)\n",
    "        # qkv layers\n",
    "        q = self.permute_for_scores(self.q_proj(hidden_states))\n",
    "        k = self.permute_for_scores(self.k_proj(hidden_states))\n",
    "        v = self.permute_for_scores(self.v_proj(hidden_states))\n",
    "        # core attention\n",
    "        output = scaled_dot_product(q, k, v)\n",
    "        # output: (bs, seq, head, hs // head)\n",
    "        output.permute(0, 2, 1, 3)\n",
    "        output.view(output.shape[0], output.shape[1], -1)\n",
    "        return output"
   ]
  },
  {
   "attachments": {},
   "cell_type": "markdown",
   "metadata": {},
   "source": [
    "##### Attention Layer\n",
    "<div>\n",
    "<center>\n",
    "<img src=\"transformer.png\" width=\"400\"/>\n",
    "</center>\n",
    "</div>"
   ]
  },
  {
   "cell_type": "code",
   "execution_count": 36,
   "metadata": {},
   "outputs": [],
   "source": [
    "class Projection(nn.Module):\n",
    "    def __init__(self, hidden_size):\n",
    "        super().__init__()\n",
    "        self.dense = nn.Linear(hidden_size, hidden_size)\n",
    "        self.dropout = nn.Dropout(0.1)\n",
    "        self.layer_norm = nn.LayerNorm(hidden_size)\n",
    "\n",
    "    def forward(self, hidden_states, input_tensor):\n",
    "        hidden_states = self.dense(hidden_states)\n",
    "        hidden_states = self.dropout(hidden_states)\n",
    "        hidden_states = self.layer_norm(hidden_states + input_tensor)\n",
    "        return hidden_states\n",
    "\n",
    "class MLP(nn.Module):\n",
    "    def __init__(self, hidden_size):\n",
    "        super().__init__()\n",
    "        self.linear1 = nn.Linear(hidden_size, hidden_size)\n",
    "        self.activation = nn.GELU()\n",
    "        self.linear2 = nn.Linear(hidden_size, hidden_size)\n",
    "\n",
    "    def forward(self, data):\n",
    "        out = self.linear1(data)\n",
    "        out = self.activation(out)\n",
    "        out = self.linear2(out)\n",
    "        return out\n",
    "\n",
    "class Attention(nn.Module):\n",
    "    def __init__(self, hidden_size, n_heads):\n",
    "        super().__init__()\n",
    "        self.self_attn = SelfAttention(hidden_size, n_heads)\n",
    "        self.proj1 = Projection(hidden_size)\n",
    "        self.linear_net = MLP(hidden_size)\n",
    "        self.proj2 = Projection(hidden_size)\n",
    "\n",
    "    def forward(self, hidden_states):\n",
    "        self_output = self.self_attn(hidden_states)\n",
    "        attention_output = self.proj1(self_output, hidden_states)\n",
    "        linear_out = self.linear_net(attention_output)\n",
    "        linear_out = attention_output + self.dropout(linear_out)\n",
    "        out = self.proj2(linear_out)\n",
    "        return out"
   ]
  },
  {
   "cell_type": "code",
   "execution_count": 37,
   "metadata": {},
   "outputs": [
    {
     "name": "stdout",
     "output_type": "stream",
     "text": [
      "Attention(\n",
      "  (self_attn): SelfAttention(\n",
      "    (q_proj): Linear(in_features=1024, out_features=1024, bias=True)\n",
      "    (k_proj): Linear(in_features=1024, out_features=1024, bias=True)\n",
      "    (v_proj): Linear(in_features=1024, out_features=1024, bias=True)\n",
      "  )\n",
      "  (proj1): Projection(\n",
      "    (dense): Linear(in_features=1024, out_features=1024, bias=True)\n",
      "    (dropout): Dropout(p=0.1, inplace=False)\n",
      "    (layer_norm): LayerNorm((1024,), eps=1e-05, elementwise_affine=True)\n",
      "  )\n",
      "  (linear_net): MLP(\n",
      "    (linear1): Linear(in_features=1024, out_features=1024, bias=True)\n",
      "    (activation): GELU(approximate=none)\n",
      "    (linear2): Linear(in_features=1024, out_features=1024, bias=True)\n",
      "  )\n",
      "  (proj2): Projection(\n",
      "    (dense): Linear(in_features=1024, out_features=1024, bias=True)\n",
      "    (dropout): Dropout(p=0.1, inplace=False)\n",
      "    (layer_norm): LayerNorm((1024,), eps=1e-05, elementwise_affine=True)\n",
      "  )\n",
      ")\n"
     ]
    }
   ],
   "source": [
    "model = Attention(hidden_size=1024, n_heads=16)\n",
    "print(model)"
   ]
  },
  {
   "cell_type": "code",
   "execution_count": 48,
   "metadata": {},
   "outputs": [
    {
     "name": "stderr",
     "output_type": "stream",
     "text": [
      "If you want to use `BertLMHeadModel` as a standalone, add `is_decoder=True.`\n"
     ]
    },
    {
     "name": "stdout",
     "output_type": "stream",
     "text": [
      "('bert.embeddings.position_embeddings', Embedding(512, 1024))\n"
     ]
    },
    {
     "data": {
      "text/plain": [
       "BertLayer(\n",
       "  (attention): BertAttention(\n",
       "    (self): BertSelfAttention(\n",
       "      (query): Linear(in_features=1024, out_features=1024, bias=True)\n",
       "      (key): Linear(in_features=1024, out_features=1024, bias=True)\n",
       "      (value): Linear(in_features=1024, out_features=1024, bias=True)\n",
       "      (dropout): Dropout(p=0.1, inplace=False)\n",
       "    )\n",
       "    (output): BertSelfOutput(\n",
       "      (dense): Linear(in_features=1024, out_features=1024, bias=True)\n",
       "      (LayerNorm): LayerNorm((1024,), eps=1e-12, elementwise_affine=True)\n",
       "      (dropout): Dropout(p=0.1, inplace=False)\n",
       "    )\n",
       "  )\n",
       "  (intermediate): BertIntermediate(\n",
       "    (dense): Linear(in_features=1024, out_features=4096, bias=True)\n",
       "    (intermediate_act_fn): GELUActivation()\n",
       "  )\n",
       "  (output): BertOutput(\n",
       "    (dense): Linear(in_features=4096, out_features=1024, bias=True)\n",
       "    (LayerNorm): LayerNorm((1024,), eps=1e-12, elementwise_affine=True)\n",
       "    (dropout): Dropout(p=0.1, inplace=False)\n",
       "  )\n",
       ")"
      ]
     },
     "execution_count": 48,
     "metadata": {},
     "output_type": "execute_result"
    }
   ],
   "source": [
    "\n",
    "\n",
    "config = AutoConfig.from_pretrained(\"bert-large-uncased\")\n",
    "bert_model = BertLMHeadModel(config)\n",
    "\n",
    "print(list(bert_model.named_modules())[4])\n",
    "bert_model.bert.encoder.layer[0]"
   ]
  },
  {
   "cell_type": "code",
   "execution_count": 47,
   "metadata": {},
   "outputs": [
    {
     "ename": "TypeError",
     "evalue": "'generator' object is not subscriptable",
     "output_type": "error",
     "traceback": [
      "\u001b[0;31m---------------------------------------------------------------------------\u001b[0m",
      "\u001b[0;31mTypeError\u001b[0m                                 Traceback (most recent call last)",
      "\u001b[1;32m/Users/zhanqiuhu/Desktop/Spring2023/ece6980/ece6980tutorial.ipynb Cell 9\u001b[0m in \u001b[0;36m1\n\u001b[0;32m----> <a href='vscode-notebook-cell:/Users/zhanqiuhu/Desktop/Spring2023/ece6980/ece6980tutorial.ipynb#X14sZmlsZQ%3D%3D?line=0'>1</a>\u001b[0m \u001b[39mprint\u001b[39m(bert_model\u001b[39m.\u001b[39;49mnamed_modules()[\u001b[39m'\u001b[39;49m\u001b[39mbert.encoder.layer.0\u001b[39;49m\u001b[39m'\u001b[39;49m])\n",
      "\u001b[0;31mTypeError\u001b[0m: 'generator' object is not subscriptable"
     ]
    }
   ],
   "source": [
    "print(bert_model.bert.encoder.layer[0])"
   ]
  },
  {
   "cell_type": "code",
   "execution_count": 39,
   "metadata": {},
   "outputs": [],
   "source": [
    "def train(model, device=\"cuda\", bs=8, seq_length=512):\n",
    "    input_ids = torch.ones(bs, seq_length, dtype=torch.long, device=device)\n",
    "    attention_mask = torch.ones(bs, seq_length, dtype=torch.float16, device=device)\n",
    "    token_type_ids = torch.ones(bs, seq_length, dtype=torch.long, device=device)\n",
    "    labels = input_ids.clone()\n",
    "    model.to(device)\n",
    "    optimizer = torch.optim.AdamW(model.parameters(), lr=0.001)\n",
    "    for step in range(100):\n",
    "        inputs = (input_ids, attention_mask, token_type_ids)\n",
    "        loss = model(*inputs, labels=labels).loss\n",
    "        loss.backward()\n",
    "        optimizer.step()\n",
    "\n",
    "        if step % 10 == 0:\n",
    "            print(f\"step {step} loss: {loss.item()}\")"
   ]
  },
  {
   "cell_type": "code",
   "execution_count": 40,
   "metadata": {},
   "outputs": [],
   "source": [
    "#train(model, device=\"cpu\")"
   ]
  }
 ],
 "metadata": {
  "kernelspec": {
   "display_name": "torch",
   "language": "python",
   "name": "python3"
  },
  "language_info": {
   "codemirror_mode": {
    "name": "ipython",
    "version": 3
   },
   "file_extension": ".py",
   "mimetype": "text/x-python",
   "name": "python",
   "nbconvert_exporter": "python",
   "pygments_lexer": "ipython3",
   "version": "3.8.13"
  },
  "orig_nbformat": 4
 },
 "nbformat": 4,
 "nbformat_minor": 2
}
